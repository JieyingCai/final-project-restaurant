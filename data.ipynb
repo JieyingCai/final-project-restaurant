{
 "cells": [
  {
   "cell_type": "code",
   "execution_count": 1,
   "id": "1e39b529-f535-4c14-812d-3e745b595518",
   "metadata": {},
   "outputs": [],
   "source": [
    "restaurant_df <- read.csv(\"Open_Restaurant_Applications.csv\")"
   ]
  },
  {
   "cell_type": "code",
   "execution_count": 2,
   "id": "2d141fc7-e7bd-4e66-997e-130b666d47da",
   "metadata": {},
   "outputs": [
    {
     "data": {
      "text/html": [
       "<table class=\"dataframe\">\n",
       "<caption>A data.frame: 6 × 35</caption>\n",
       "<thead>\n",
       "\t<tr><th></th><th scope=col>objectid</th><th scope=col>globalid</th><th scope=col>Seating.Interest..Sidewalk.Roadway.Both.</th><th scope=col>Restaurant.Name</th><th scope=col>Legal.Business.Name</th><th scope=col>Doing.Business.As..DBA.</th><th scope=col>Building.Number</th><th scope=col>Street</th><th scope=col>Borough</th><th scope=col>Postcode</th><th scope=col>⋯</th><th scope=col>healthCompliance_terms</th><th scope=col>Time.of.Submission</th><th scope=col>Latitude</th><th scope=col>Longitude</th><th scope=col>Community.Board</th><th scope=col>Council.District</th><th scope=col>Census.Tract</th><th scope=col>BIN</th><th scope=col>BBL</th><th scope=col>NTA</th></tr>\n",
       "\t<tr><th></th><th scope=col>&lt;int&gt;</th><th scope=col>&lt;chr&gt;</th><th scope=col>&lt;chr&gt;</th><th scope=col>&lt;chr&gt;</th><th scope=col>&lt;chr&gt;</th><th scope=col>&lt;chr&gt;</th><th scope=col>&lt;chr&gt;</th><th scope=col>&lt;chr&gt;</th><th scope=col>&lt;chr&gt;</th><th scope=col>&lt;int&gt;</th><th scope=col>⋯</th><th scope=col>&lt;chr&gt;</th><th scope=col>&lt;chr&gt;</th><th scope=col>&lt;dbl&gt;</th><th scope=col>&lt;dbl&gt;</th><th scope=col>&lt;int&gt;</th><th scope=col>&lt;int&gt;</th><th scope=col>&lt;int&gt;</th><th scope=col>&lt;int&gt;</th><th scope=col>&lt;dbl&gt;</th><th scope=col>&lt;chr&gt;</th></tr>\n",
       "</thead>\n",
       "<tbody>\n",
       "\t<tr><th scope=row>1</th><td>12302</td><td>{F4FFE759-9440-444D-8301-D9674B698218}</td><td>roadway </td><td>HERE ARTS CENTER               </td><td>HOME FOR CONTEMPORARY THEATRE AND ART, LTD</td><td>HERE ARTS CENTER                    </td><td>undefined</td><td>145 AVENUE OF THE AMERICAS</td><td>Manhattan</td><td>10013</td><td>⋯</td><td>yes</td><td>04/22/2021 02:47:00 PM</td><td>40.72497</td><td>-74.00448</td><td>2</td><td> 3</td><td> 37</td><td>1087061</td><td>1004917502</td><td>SoHo-TriBeCa-Civic Center-Little Italy</td></tr>\n",
       "\t<tr><th scope=row>2</th><td>12774</td><td>{AA324340-BA39-4E9A-8215-238934FF0E5A}</td><td>sidewalk</td><td>HUNGRY GHOST                   </td><td>HUNGRY GHOST BLEECKER LLC                 </td><td>HUNGRY GHOST                        </td><td>undefined</td><td>315 BLEECKER STREET       </td><td>Manhattan</td><td>10014</td><td>⋯</td><td>yes</td><td>08/17/2021 03:04:00 PM</td><td>40.73283</td><td>-74.00391</td><td>2</td><td> 3</td><td> 73</td><td>1010182</td><td>1005910009</td><td>West Village                          </td></tr>\n",
       "\t<tr><th scope=row>3</th><td>10289</td><td>{096E1404-EBAE-48F5-8DDF-8ABD9D1F57D1}</td><td><span style=white-space:pre-wrap>both    </span></td><td>Prince Laban&amp;Chinese restaurent</td><td><span style=white-space:pre-wrap>Renessa inc.                              </span></td><td>Prince Kababish &amp; Chinese restaurant</td><td><span style=white-space:pre-wrap>3756     </span></td><td><span style=white-space:pre-wrap>74 street                 </span></td><td><span style=white-space:pre-wrap>Queens   </span></td><td>11372</td><td>⋯</td><td>yes</td><td>08/15/2020 04:55:00 PM</td><td>40.74763</td><td>-73.89160</td><td>3</td><td>25</td><td>289</td><td>4029808</td><td>4012840065</td><td><span style=white-space:pre-wrap>Jackson Heights                       </span></td></tr>\n",
       "\t<tr><th scope=row>4</th><td>10274</td><td>{3B982638-4EB7-4BFE-8FA4-29F2DE80833B}</td><td>sidewalk</td><td>Philly Pretzel Factory         </td><td>Snacking Made Easy LLC                    </td><td>Philly Pretzel Factory              </td><td>131      </td><td>5th Ave                   </td><td>Brooklyn </td><td>11217</td><td>⋯</td><td>yes</td><td>08/15/2020 09:58:00 AM</td><td>40.67865</td><td>-73.97893</td><td>6</td><td>39</td><td>131</td><td>3019193</td><td>3009440004</td><td>Park Slope-Gowanus                    </td></tr>\n",
       "\t<tr><th scope=row>5</th><td>10259</td><td>{2CBACAD1-49B6-4D8D-8F25-A3F415A9C586}</td><td>roadway </td><td>About Coffee                   </td><td>ABOUT COFFEE LLC                          </td><td>ABOUT COFFEE                        </td><td>71       </td><td>SULLIVAN STREET           </td><td>Manhattan</td><td>10012</td><td>⋯</td><td>yes</td><td>08/14/2020 05:08:00 PM</td><td>40.72463</td><td>-74.00389</td><td>2</td><td> 3</td><td> 47</td><td>1007347</td><td>1004890008</td><td>SoHo-TriBeCa-Civic Center-Little Italy</td></tr>\n",
       "\t<tr><th scope=row>6</th><td>10321</td><td>{87B61FDF-720D-4E56-8DD5-0A70B7D2AC10}</td><td>both    </td><td>BICKLES TO GO                  </td><td>BICKLES 2 GO INC                          </td><td>BICKLES 2 GO                        </td><td>726      </td><td>COURTLANDT AVE            </td><td>Bronx    </td><td>10451</td><td>⋯</td><td>yes</td><td>08/17/2020 10:29:00 AM</td><td>40.82075</td><td>-73.91765</td><td>1</td><td>17</td><td> 69</td><td>2091199</td><td>2024020005</td><td>Melrose South-Mott Haven North        </td></tr>\n",
       "</tbody>\n",
       "</table>\n"
      ],
      "text/latex": [
       "A data.frame: 6 × 35\n",
       "\\begin{tabular}{r|lllllllllllllllllllll}\n",
       "  & objectid & globalid & Seating.Interest..Sidewalk.Roadway.Both. & Restaurant.Name & Legal.Business.Name & Doing.Business.As..DBA. & Building.Number & Street & Borough & Postcode & ⋯ & healthCompliance\\_terms & Time.of.Submission & Latitude & Longitude & Community.Board & Council.District & Census.Tract & BIN & BBL & NTA\\\\\n",
       "  & <int> & <chr> & <chr> & <chr> & <chr> & <chr> & <chr> & <chr> & <chr> & <int> & ⋯ & <chr> & <chr> & <dbl> & <dbl> & <int> & <int> & <int> & <int> & <dbl> & <chr>\\\\\n",
       "\\hline\n",
       "\t1 & 12302 & \\{F4FFE759-9440-444D-8301-D9674B698218\\} & roadway  & HERE ARTS CENTER                & HOME FOR CONTEMPORARY THEATRE AND ART, LTD & HERE ARTS CENTER                     & undefined & 145 AVENUE OF THE AMERICAS & Manhattan & 10013 & ⋯ & yes & 04/22/2021 02:47:00 PM & 40.72497 & -74.00448 & 2 &  3 &  37 & 1087061 & 1004917502 & SoHo-TriBeCa-Civic Center-Little Italy\\\\\n",
       "\t2 & 12774 & \\{AA324340-BA39-4E9A-8215-238934FF0E5A\\} & sidewalk & HUNGRY GHOST                    & HUNGRY GHOST BLEECKER LLC                  & HUNGRY GHOST                         & undefined & 315 BLEECKER STREET        & Manhattan & 10014 & ⋯ & yes & 08/17/2021 03:04:00 PM & 40.73283 & -74.00391 & 2 &  3 &  73 & 1010182 & 1005910009 & West Village                          \\\\\n",
       "\t3 & 10289 & \\{096E1404-EBAE-48F5-8DDF-8ABD9D1F57D1\\} & both     & Prince Laban\\&Chinese restaurent & Renessa inc.                               & Prince Kababish \\& Chinese restaurant & 3756      & 74 street                  & Queens    & 11372 & ⋯ & yes & 08/15/2020 04:55:00 PM & 40.74763 & -73.89160 & 3 & 25 & 289 & 4029808 & 4012840065 & Jackson Heights                       \\\\\n",
       "\t4 & 10274 & \\{3B982638-4EB7-4BFE-8FA4-29F2DE80833B\\} & sidewalk & Philly Pretzel Factory          & Snacking Made Easy LLC                     & Philly Pretzel Factory               & 131       & 5th Ave                    & Brooklyn  & 11217 & ⋯ & yes & 08/15/2020 09:58:00 AM & 40.67865 & -73.97893 & 6 & 39 & 131 & 3019193 & 3009440004 & Park Slope-Gowanus                    \\\\\n",
       "\t5 & 10259 & \\{2CBACAD1-49B6-4D8D-8F25-A3F415A9C586\\} & roadway  & About Coffee                    & ABOUT COFFEE LLC                           & ABOUT COFFEE                         & 71        & SULLIVAN STREET            & Manhattan & 10012 & ⋯ & yes & 08/14/2020 05:08:00 PM & 40.72463 & -74.00389 & 2 &  3 &  47 & 1007347 & 1004890008 & SoHo-TriBeCa-Civic Center-Little Italy\\\\\n",
       "\t6 & 10321 & \\{87B61FDF-720D-4E56-8DD5-0A70B7D2AC10\\} & both     & BICKLES TO GO                   & BICKLES 2 GO INC                           & BICKLES 2 GO                         & 726       & COURTLANDT AVE             & Bronx     & 10451 & ⋯ & yes & 08/17/2020 10:29:00 AM & 40.82075 & -73.91765 & 1 & 17 &  69 & 2091199 & 2024020005 & Melrose South-Mott Haven North        \\\\\n",
       "\\end{tabular}\n"
      ],
      "text/markdown": [
       "\n",
       "A data.frame: 6 × 35\n",
       "\n",
       "| <!--/--> | objectid &lt;int&gt; | globalid &lt;chr&gt; | Seating.Interest..Sidewalk.Roadway.Both. &lt;chr&gt; | Restaurant.Name &lt;chr&gt; | Legal.Business.Name &lt;chr&gt; | Doing.Business.As..DBA. &lt;chr&gt; | Building.Number &lt;chr&gt; | Street &lt;chr&gt; | Borough &lt;chr&gt; | Postcode &lt;int&gt; | ⋯ ⋯ | healthCompliance_terms &lt;chr&gt; | Time.of.Submission &lt;chr&gt; | Latitude &lt;dbl&gt; | Longitude &lt;dbl&gt; | Community.Board &lt;int&gt; | Council.District &lt;int&gt; | Census.Tract &lt;int&gt; | BIN &lt;int&gt; | BBL &lt;dbl&gt; | NTA &lt;chr&gt; |\n",
       "|---|---|---|---|---|---|---|---|---|---|---|---|---|---|---|---|---|---|---|---|---|---|\n",
       "| 1 | 12302 | {F4FFE759-9440-444D-8301-D9674B698218} | roadway  | HERE ARTS CENTER                | HOME FOR CONTEMPORARY THEATRE AND ART, LTD | HERE ARTS CENTER                     | undefined | 145 AVENUE OF THE AMERICAS | Manhattan | 10013 | ⋯ | yes | 04/22/2021 02:47:00 PM | 40.72497 | -74.00448 | 2 |  3 |  37 | 1087061 | 1004917502 | SoHo-TriBeCa-Civic Center-Little Italy |\n",
       "| 2 | 12774 | {AA324340-BA39-4E9A-8215-238934FF0E5A} | sidewalk | HUNGRY GHOST                    | HUNGRY GHOST BLEECKER LLC                  | HUNGRY GHOST                         | undefined | 315 BLEECKER STREET        | Manhattan | 10014 | ⋯ | yes | 08/17/2021 03:04:00 PM | 40.73283 | -74.00391 | 2 |  3 |  73 | 1010182 | 1005910009 | West Village                           |\n",
       "| 3 | 10289 | {096E1404-EBAE-48F5-8DDF-8ABD9D1F57D1} | both     | Prince Laban&amp;Chinese restaurent | Renessa inc.                               | Prince Kababish &amp; Chinese restaurant | 3756      | 74 street                  | Queens    | 11372 | ⋯ | yes | 08/15/2020 04:55:00 PM | 40.74763 | -73.89160 | 3 | 25 | 289 | 4029808 | 4012840065 | Jackson Heights                        |\n",
       "| 4 | 10274 | {3B982638-4EB7-4BFE-8FA4-29F2DE80833B} | sidewalk | Philly Pretzel Factory          | Snacking Made Easy LLC                     | Philly Pretzel Factory               | 131       | 5th Ave                    | Brooklyn  | 11217 | ⋯ | yes | 08/15/2020 09:58:00 AM | 40.67865 | -73.97893 | 6 | 39 | 131 | 3019193 | 3009440004 | Park Slope-Gowanus                     |\n",
       "| 5 | 10259 | {2CBACAD1-49B6-4D8D-8F25-A3F415A9C586} | roadway  | About Coffee                    | ABOUT COFFEE LLC                           | ABOUT COFFEE                         | 71        | SULLIVAN STREET            | Manhattan | 10012 | ⋯ | yes | 08/14/2020 05:08:00 PM | 40.72463 | -74.00389 | 2 |  3 |  47 | 1007347 | 1004890008 | SoHo-TriBeCa-Civic Center-Little Italy |\n",
       "| 6 | 10321 | {87B61FDF-720D-4E56-8DD5-0A70B7D2AC10} | both     | BICKLES TO GO                   | BICKLES 2 GO INC                           | BICKLES 2 GO                         | 726       | COURTLANDT AVE             | Bronx     | 10451 | ⋯ | yes | 08/17/2020 10:29:00 AM | 40.82075 | -73.91765 | 1 | 17 |  69 | 2091199 | 2024020005 | Melrose South-Mott Haven North         |\n",
       "\n"
      ],
      "text/plain": [
       "  objectid globalid                              \n",
       "1 12302    {F4FFE759-9440-444D-8301-D9674B698218}\n",
       "2 12774    {AA324340-BA39-4E9A-8215-238934FF0E5A}\n",
       "3 10289    {096E1404-EBAE-48F5-8DDF-8ABD9D1F57D1}\n",
       "4 10274    {3B982638-4EB7-4BFE-8FA4-29F2DE80833B}\n",
       "5 10259    {2CBACAD1-49B6-4D8D-8F25-A3F415A9C586}\n",
       "6 10321    {87B61FDF-720D-4E56-8DD5-0A70B7D2AC10}\n",
       "  Seating.Interest..Sidewalk.Roadway.Both. Restaurant.Name                \n",
       "1 roadway                                  HERE ARTS CENTER               \n",
       "2 sidewalk                                 HUNGRY GHOST                   \n",
       "3 both                                     Prince Laban&Chinese restaurent\n",
       "4 sidewalk                                 Philly Pretzel Factory         \n",
       "5 roadway                                  About Coffee                   \n",
       "6 both                                     BICKLES TO GO                  \n",
       "  Legal.Business.Name                       \n",
       "1 HOME FOR CONTEMPORARY THEATRE AND ART, LTD\n",
       "2 HUNGRY GHOST BLEECKER LLC                 \n",
       "3 Renessa inc.                              \n",
       "4 Snacking Made Easy LLC                    \n",
       "5 ABOUT COFFEE LLC                          \n",
       "6 BICKLES 2 GO INC                          \n",
       "  Doing.Business.As..DBA.              Building.Number\n",
       "1 HERE ARTS CENTER                     undefined      \n",
       "2 HUNGRY GHOST                         undefined      \n",
       "3 Prince Kababish & Chinese restaurant 3756           \n",
       "4 Philly Pretzel Factory               131            \n",
       "5 ABOUT COFFEE                         71             \n",
       "6 BICKLES 2 GO                         726            \n",
       "  Street                     Borough   Postcode ⋯ healthCompliance_terms\n",
       "1 145 AVENUE OF THE AMERICAS Manhattan 10013    ⋯ yes                   \n",
       "2 315 BLEECKER STREET        Manhattan 10014    ⋯ yes                   \n",
       "3 74 street                  Queens    11372    ⋯ yes                   \n",
       "4 5th Ave                    Brooklyn  11217    ⋯ yes                   \n",
       "5 SULLIVAN STREET            Manhattan 10012    ⋯ yes                   \n",
       "6 COURTLANDT AVE             Bronx     10451    ⋯ yes                   \n",
       "  Time.of.Submission     Latitude Longitude Community.Board Council.District\n",
       "1 04/22/2021 02:47:00 PM 40.72497 -74.00448 2                3              \n",
       "2 08/17/2021 03:04:00 PM 40.73283 -74.00391 2                3              \n",
       "3 08/15/2020 04:55:00 PM 40.74763 -73.89160 3               25              \n",
       "4 08/15/2020 09:58:00 AM 40.67865 -73.97893 6               39              \n",
       "5 08/14/2020 05:08:00 PM 40.72463 -74.00389 2                3              \n",
       "6 08/17/2020 10:29:00 AM 40.82075 -73.91765 1               17              \n",
       "  Census.Tract BIN     BBL        NTA                                   \n",
       "1  37          1087061 1004917502 SoHo-TriBeCa-Civic Center-Little Italy\n",
       "2  73          1010182 1005910009 West Village                          \n",
       "3 289          4029808 4012840065 Jackson Heights                       \n",
       "4 131          3019193 3009440004 Park Slope-Gowanus                    \n",
       "5  47          1007347 1004890008 SoHo-TriBeCa-Civic Center-Little Italy\n",
       "6  69          2091199 2024020005 Melrose South-Mott Haven North        "
      ]
     },
     "metadata": {},
     "output_type": "display_data"
    }
   ],
   "source": [
    "head(restaurant_df)"
   ]
  }
 ],
 "metadata": {
  "kernelspec": {
   "display_name": "R",
   "language": "R",
   "name": "ir"
  },
  "language_info": {
   "codemirror_mode": "r",
   "file_extension": ".r",
   "mimetype": "text/x-r-source",
   "name": "R",
   "pygments_lexer": "r",
   "version": "4.0.5"
  }
 },
 "nbformat": 4,
 "nbformat_minor": 5
}
