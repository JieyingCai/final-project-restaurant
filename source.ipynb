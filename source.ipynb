{
 "cells": [
  {
   "cell_type": "code",
   "execution_count": 2,
   "id": "1d8fda01-9714-4059-b904-7b863bb4d05d",
   "metadata": {},
   "outputs": [],
   "source": [
    "library(dplyr)"
   ]
  },
  {
   "cell_type": "code",
   "execution_count": 3,
   "id": "40ff2d60-7dc0-4c0d-8ce2-2efdf1b93470",
   "metadata": {},
   "outputs": [],
   "source": [
    "rest_data <- read.csv(\"Join.csv\")"
   ]
  },
  {
   "cell_type": "code",
   "execution_count": 4,
   "id": "fb60f9f2-644a-473d-a140-9414098c3e67",
   "metadata": {},
   "outputs": [
    {
     "data": {
      "text/html": [
       "<table class=\"dataframe\">\n",
       "<caption>A data.frame: 6 × 12</caption>\n",
       "<thead>\n",
       "\t<tr><th></th><th scope=col>Seating.Interest..Sidewalk.Roadway.Both.</th><th scope=col>CAMIS</th><th scope=col>Approved.for.Sidewalk.Seating</th><th scope=col>Approved.for.Roadway.Seating</th><th scope=col>Time.of.Submission</th><th scope=col>X</th><th scope=col>Score</th><th scope=col>Grade</th><th scope=col>BOROUGH</th><th scope=col>Violation.Code</th><th scope=col>Violation.Description</th><th scope=col>Cuisin</th></tr>\n",
       "\t<tr><th></th><th scope=col>&lt;chr&gt;</th><th scope=col>&lt;chr&gt;</th><th scope=col>&lt;chr&gt;</th><th scope=col>&lt;chr&gt;</th><th scope=col>&lt;chr&gt;</th><th scope=col>&lt;lgl&gt;</th><th scope=col>&lt;chr&gt;</th><th scope=col>&lt;chr&gt;</th><th scope=col>&lt;chr&gt;</th><th scope=col>&lt;chr&gt;</th><th scope=col>&lt;chr&gt;</th><th scope=col>&lt;chr&gt;</th></tr>\n",
       "</thead>\n",
       "<tbody>\n",
       "\t<tr><th scope=row>1</th><td>roadway </td><td>50109522</td><td>no </td><td>yes</td><td>04/22/2021 02:47:00 PM</td><td>NA</td><td>#N/A</td><td>#N/A</td><td>#N/A    </td><td>#N/A</td><td>#N/A                                                                                                                                                                                                                                                                           </td><td>#N/A            </td></tr>\n",
       "\t<tr><th scope=row>2</th><td>sidewalk</td><td>50113143</td><td>yes</td><td>no </td><td>08/17/2021 03:04:00 PM</td><td>NA</td><td>#N/A</td><td>#N/A</td><td>#N/A    </td><td>#N/A</td><td>#N/A                                                                                                                                                                                                                                                                           </td><td>#N/A            </td></tr>\n",
       "\t<tr><th scope=row>3</th><td>both    </td><td>50069734</td><td>yes</td><td>yes</td><td>08/15/2020 04:55:00 PM</td><td>NA</td><td>11  </td><td>A   </td><td>Queens  </td><td>02G </td><td>Cold food item held above 41¬∫ F (smoked fish and reduced oxygen packaged foods above 38 ¬∫F) except during necessary preparation.                                                                                                                                             </td><td>Indian          </td></tr>\n",
       "\t<tr><th scope=row>4</th><td>sidewalk</td><td>50097413</td><td>yes</td><td>no </td><td>08/15/2020 09:58:00 AM</td><td>NA</td><td>7   </td><td>A   </td><td>Brooklyn</td><td>10F </td><td>Non-food contact surface improperly constructed. Unacceptable material used. Non-food contact surface or equipment improperly maintained and/or not properly sealed, raised, spaced or movable to allow accessibility for cleaning on all sides, above and underneath the unit.</td><td>Hotdogs/Pretzels</td></tr>\n",
       "\t<tr><th scope=row>5</th><td>roadway </td><td>50047872</td><td>no </td><td>yes</td><td>08/14/2020 05:08:00 PM</td><td>NA</td><td>#N/A</td><td>#N/A</td><td>#N/A    </td><td>#N/A</td><td>#N/A                                                                                                                                                                                                                                                                           </td><td>#N/A            </td></tr>\n",
       "\t<tr><th scope=row>6</th><td>both    </td><td>50104163</td><td>yes</td><td>yes</td><td>08/17/2020 10:29:00 AM</td><td>NA</td><td>#N/A</td><td>#N/A</td><td>#N/A    </td><td>#N/A</td><td>#N/A                                                                                                                                                                                                                                                                           </td><td>#N/A            </td></tr>\n",
       "</tbody>\n",
       "</table>\n"
      ],
      "text/latex": [
       "A data.frame: 6 × 12\n",
       "\\begin{tabular}{r|llllllllllll}\n",
       "  & Seating.Interest..Sidewalk.Roadway.Both. & CAMIS & Approved.for.Sidewalk.Seating & Approved.for.Roadway.Seating & Time.of.Submission & X & Score & Grade & BOROUGH & Violation.Code & Violation.Description & Cuisin\\\\\n",
       "  & <chr> & <chr> & <chr> & <chr> & <chr> & <lgl> & <chr> & <chr> & <chr> & <chr> & <chr> & <chr>\\\\\n",
       "\\hline\n",
       "\t1 & roadway  & 50109522 & no  & yes & 04/22/2021 02:47:00 PM & NA & \\#N/A & \\#N/A & \\#N/A     & \\#N/A & \\#N/A                                                                                                                                                                                                                                                                            & \\#N/A            \\\\\n",
       "\t2 & sidewalk & 50113143 & yes & no  & 08/17/2021 03:04:00 PM & NA & \\#N/A & \\#N/A & \\#N/A     & \\#N/A & \\#N/A                                                                                                                                                                                                                                                                            & \\#N/A            \\\\\n",
       "\t3 & both     & 50069734 & yes & yes & 08/15/2020 04:55:00 PM & NA & 11   & A    & Queens   & 02G  & Cold food item held above 41¬∫ F (smoked fish and reduced oxygen packaged foods above 38 ¬∫F) except during necessary preparation.                                                                                                                                              & Indian          \\\\\n",
       "\t4 & sidewalk & 50097413 & yes & no  & 08/15/2020 09:58:00 AM & NA & 7    & A    & Brooklyn & 10F  & Non-food contact surface improperly constructed. Unacceptable material used. Non-food contact surface or equipment improperly maintained and/or not properly sealed, raised, spaced or movable to allow accessibility for cleaning on all sides, above and underneath the unit. & Hotdogs/Pretzels\\\\\n",
       "\t5 & roadway  & 50047872 & no  & yes & 08/14/2020 05:08:00 PM & NA & \\#N/A & \\#N/A & \\#N/A     & \\#N/A & \\#N/A                                                                                                                                                                                                                                                                            & \\#N/A            \\\\\n",
       "\t6 & both     & 50104163 & yes & yes & 08/17/2020 10:29:00 AM & NA & \\#N/A & \\#N/A & \\#N/A     & \\#N/A & \\#N/A                                                                                                                                                                                                                                                                            & \\#N/A            \\\\\n",
       "\\end{tabular}\n"
      ],
      "text/markdown": [
       "\n",
       "A data.frame: 6 × 12\n",
       "\n",
       "| <!--/--> | Seating.Interest..Sidewalk.Roadway.Both. &lt;chr&gt; | CAMIS &lt;chr&gt; | Approved.for.Sidewalk.Seating &lt;chr&gt; | Approved.for.Roadway.Seating &lt;chr&gt; | Time.of.Submission &lt;chr&gt; | X &lt;lgl&gt; | Score &lt;chr&gt; | Grade &lt;chr&gt; | BOROUGH &lt;chr&gt; | Violation.Code &lt;chr&gt; | Violation.Description &lt;chr&gt; | Cuisin &lt;chr&gt; |\n",
       "|---|---|---|---|---|---|---|---|---|---|---|---|---|\n",
       "| 1 | roadway  | 50109522 | no  | yes | 04/22/2021 02:47:00 PM | NA | #N/A | #N/A | #N/A     | #N/A | #N/A                                                                                                                                                                                                                                                                            | #N/A             |\n",
       "| 2 | sidewalk | 50113143 | yes | no  | 08/17/2021 03:04:00 PM | NA | #N/A | #N/A | #N/A     | #N/A | #N/A                                                                                                                                                                                                                                                                            | #N/A             |\n",
       "| 3 | both     | 50069734 | yes | yes | 08/15/2020 04:55:00 PM | NA | 11   | A    | Queens   | 02G  | Cold food item held above 41¬∫ F (smoked fish and reduced oxygen packaged foods above 38 ¬∫F) except during necessary preparation.                                                                                                                                              | Indian           |\n",
       "| 4 | sidewalk | 50097413 | yes | no  | 08/15/2020 09:58:00 AM | NA | 7    | A    | Brooklyn | 10F  | Non-food contact surface improperly constructed. Unacceptable material used. Non-food contact surface or equipment improperly maintained and/or not properly sealed, raised, spaced or movable to allow accessibility for cleaning on all sides, above and underneath the unit. | Hotdogs/Pretzels |\n",
       "| 5 | roadway  | 50047872 | no  | yes | 08/14/2020 05:08:00 PM | NA | #N/A | #N/A | #N/A     | #N/A | #N/A                                                                                                                                                                                                                                                                            | #N/A             |\n",
       "| 6 | both     | 50104163 | yes | yes | 08/17/2020 10:29:00 AM | NA | #N/A | #N/A | #N/A     | #N/A | #N/A                                                                                                                                                                                                                                                                            | #N/A             |\n",
       "\n"
      ],
      "text/plain": [
       "  Seating.Interest..Sidewalk.Roadway.Both. CAMIS   \n",
       "1 roadway                                  50109522\n",
       "2 sidewalk                                 50113143\n",
       "3 both                                     50069734\n",
       "4 sidewalk                                 50097413\n",
       "5 roadway                                  50047872\n",
       "6 both                                     50104163\n",
       "  Approved.for.Sidewalk.Seating Approved.for.Roadway.Seating\n",
       "1 no                            yes                         \n",
       "2 yes                           no                          \n",
       "3 yes                           yes                         \n",
       "4 yes                           no                          \n",
       "5 no                            yes                         \n",
       "6 yes                           yes                         \n",
       "  Time.of.Submission     X  Score Grade BOROUGH  Violation.Code\n",
       "1 04/22/2021 02:47:00 PM NA #N/A  #N/A  #N/A     #N/A          \n",
       "2 08/17/2021 03:04:00 PM NA #N/A  #N/A  #N/A     #N/A          \n",
       "3 08/15/2020 04:55:00 PM NA 11    A     Queens   02G           \n",
       "4 08/15/2020 09:58:00 AM NA 7     A     Brooklyn 10F           \n",
       "5 08/14/2020 05:08:00 PM NA #N/A  #N/A  #N/A     #N/A          \n",
       "6 08/17/2020 10:29:00 AM NA #N/A  #N/A  #N/A     #N/A          \n",
       "  Violation.Description                                                                                                                                                                                                                                                          \n",
       "1 #N/A                                                                                                                                                                                                                                                                           \n",
       "2 #N/A                                                                                                                                                                                                                                                                           \n",
       "3 Cold food item held above 41¬∫ F (smoked fish and reduced oxygen packaged foods above 38 ¬∫F) except during necessary preparation.                                                                                                                                             \n",
       "4 Non-food contact surface improperly constructed. Unacceptable material used. Non-food contact surface or equipment improperly maintained and/or not properly sealed, raised, spaced or movable to allow accessibility for cleaning on all sides, above and underneath the unit.\n",
       "5 #N/A                                                                                                                                                                                                                                                                           \n",
       "6 #N/A                                                                                                                                                                                                                                                                           \n",
       "  Cuisin          \n",
       "1 #N/A            \n",
       "2 #N/A            \n",
       "3 Indian          \n",
       "4 Hotdogs/Pretzels\n",
       "5 #N/A            \n",
       "6 #N/A            "
      ]
     },
     "metadata": {},
     "output_type": "display_data"
    }
   ],
   "source": [
    "head(rest_data)"
   ]
  },
  {
   "cell_type": "code",
   "execution_count": 5,
   "id": "542cf852-dbba-42fd-b844-2fbbf0fca80b",
   "metadata": {},
   "outputs": [
    {
     "data": {
      "text/html": [
       "<table class=\"dataframe\">\n",
       "<caption>A tibble: 6 × 2</caption>\n",
       "<thead>\n",
       "\t<tr><th scope=col>BOROUGH</th><th scope=col>counts</th></tr>\n",
       "\t<tr><th scope=col>&lt;chr&gt;</th><th scope=col>&lt;int&gt;</th></tr>\n",
       "</thead>\n",
       "<tbody>\n",
       "\t<tr><td>Manhattan    </td><td>5223</td></tr>\n",
       "\t<tr><td>Brooklyn     </td><td>2504</td></tr>\n",
       "\t<tr><td>#N/A         </td><td>2396</td></tr>\n",
       "\t<tr><td>Queens       </td><td>2104</td></tr>\n",
       "\t<tr><td>Bronx        </td><td> 588</td></tr>\n",
       "\t<tr><td>Staten Island</td><td> 153</td></tr>\n",
       "</tbody>\n",
       "</table>\n"
      ],
      "text/latex": [
       "A tibble: 6 × 2\n",
       "\\begin{tabular}{ll}\n",
       " BOROUGH & counts\\\\\n",
       " <chr> & <int>\\\\\n",
       "\\hline\n",
       "\t Manhattan     & 5223\\\\\n",
       "\t Brooklyn      & 2504\\\\\n",
       "\t \\#N/A          & 2396\\\\\n",
       "\t Queens        & 2104\\\\\n",
       "\t Bronx         &  588\\\\\n",
       "\t Staten Island &  153\\\\\n",
       "\\end{tabular}\n"
      ],
      "text/markdown": [
       "\n",
       "A tibble: 6 × 2\n",
       "\n",
       "| BOROUGH &lt;chr&gt; | counts &lt;int&gt; |\n",
       "|---|---|\n",
       "| Manhattan     | 5223 |\n",
       "| Brooklyn      | 2504 |\n",
       "| #N/A          | 2396 |\n",
       "| Queens        | 2104 |\n",
       "| Bronx         |  588 |\n",
       "| Staten Island |  153 |\n",
       "\n"
      ],
      "text/plain": [
       "  BOROUGH       counts\n",
       "1 Manhattan     5223  \n",
       "2 Brooklyn      2504  \n",
       "3 #N/A          2396  \n",
       "4 Queens        2104  \n",
       "5 Bronx          588  \n",
       "6 Staten Island  153  "
      ]
     },
     "metadata": {},
     "output_type": "display_data"
    }
   ],
   "source": [
    "borough_df <- rest_data %>%\n",
    "    group_by(BOROUGH) %>%\n",
    "    summarise(\n",
    "        counts = n()\n",
    "    ) %>%\n",
    " arrange(desc(counts))\n",
    "\n",
    "head(borough_df)"
   ]
  },
  {
   "cell_type": "code",
   "execution_count": 10,
   "id": "e84163de-23a7-4af6-a428-d04df74b618f",
   "metadata": {},
   "outputs": [
    {
     "data": {
      "text/html": [
       "<table class=\"dataframe\">\n",
       "<caption>A tibble: 4 × 2</caption>\n",
       "<thead>\n",
       "\t<tr><th scope=col>Grade</th><th scope=col>counts</th></tr>\n",
       "\t<tr><th scope=col>&lt;chr&gt;</th><th scope=col>&lt;int&gt;</th></tr>\n",
       "</thead>\n",
       "<tbody>\n",
       "\t<tr><td>A   </td><td>9185</td></tr>\n",
       "\t<tr><td>#N/A</td><td>2396</td></tr>\n",
       "\t<tr><td>B   </td><td>1045</td></tr>\n",
       "\t<tr><td>C   </td><td> 344</td></tr>\n",
       "</tbody>\n",
       "</table>\n"
      ],
      "text/latex": [
       "A tibble: 4 × 2\n",
       "\\begin{tabular}{ll}\n",
       " Grade & counts\\\\\n",
       " <chr> & <int>\\\\\n",
       "\\hline\n",
       "\t A    & 9185\\\\\n",
       "\t \\#N/A & 2396\\\\\n",
       "\t B    & 1045\\\\\n",
       "\t C    &  344\\\\\n",
       "\\end{tabular}\n"
      ],
      "text/markdown": [
       "\n",
       "A tibble: 4 × 2\n",
       "\n",
       "| Grade &lt;chr&gt; | counts &lt;int&gt; |\n",
       "|---|---|\n",
       "| A    | 9185 |\n",
       "| #N/A | 2396 |\n",
       "| B    | 1045 |\n",
       "| C    |  344 |\n",
       "\n"
      ],
      "text/plain": [
       "  Grade counts\n",
       "1 A     9185  \n",
       "2 #N/A  2396  \n",
       "3 B     1045  \n",
       "4 C      344  "
      ]
     },
     "metadata": {},
     "output_type": "display_data"
    }
   ],
   "source": [
    "grade_df <- rest_data %>%\n",
    "    group_by(Grade) %>%\n",
    "    summarise(\n",
    "        counts = n()\n",
    "    ) %>%\n",
    " arrange(desc(counts))\n",
    "\n",
    "head(grade_df)"
   ]
  },
  {
   "cell_type": "code",
   "execution_count": 11,
   "id": "c3710299-2cd3-44c2-b5d7-972f6ff95427",
   "metadata": {},
   "outputs": [
    {
     "data": {
      "text/html": [
       "<table class=\"dataframe\">\n",
       "<caption>A tibble: 6 × 2</caption>\n",
       "<thead>\n",
       "\t<tr><th scope=col>Violation.Code</th><th scope=col>counts</th></tr>\n",
       "\t<tr><th scope=col>&lt;chr&gt;</th><th scope=col>&lt;int&gt;</th></tr>\n",
       "</thead>\n",
       "<tbody>\n",
       "\t<tr><td>#N/A</td><td>2396</td></tr>\n",
       "\t<tr><td>10F </td><td>2049</td></tr>\n",
       "\t<tr><td>06D </td><td> 996</td></tr>\n",
       "\t<tr><td>08A </td><td> 990</td></tr>\n",
       "\t<tr><td>06C </td><td> 835</td></tr>\n",
       "\t<tr><td>10B </td><td> 680</td></tr>\n",
       "</tbody>\n",
       "</table>\n"
      ],
      "text/latex": [
       "A tibble: 6 × 2\n",
       "\\begin{tabular}{ll}\n",
       " Violation.Code & counts\\\\\n",
       " <chr> & <int>\\\\\n",
       "\\hline\n",
       "\t \\#N/A & 2396\\\\\n",
       "\t 10F  & 2049\\\\\n",
       "\t 06D  &  996\\\\\n",
       "\t 08A  &  990\\\\\n",
       "\t 06C  &  835\\\\\n",
       "\t 10B  &  680\\\\\n",
       "\\end{tabular}\n"
      ],
      "text/markdown": [
       "\n",
       "A tibble: 6 × 2\n",
       "\n",
       "| Violation.Code &lt;chr&gt; | counts &lt;int&gt; |\n",
       "|---|---|\n",
       "| #N/A | 2396 |\n",
       "| 10F  | 2049 |\n",
       "| 06D  |  996 |\n",
       "| 08A  |  990 |\n",
       "| 06C  |  835 |\n",
       "| 10B  |  680 |\n",
       "\n"
      ],
      "text/plain": [
       "  Violation.Code counts\n",
       "1 #N/A           2396  \n",
       "2 10F            2049  \n",
       "3 06D             996  \n",
       "4 08A             990  \n",
       "5 06C             835  \n",
       "6 10B             680  "
      ]
     },
     "metadata": {},
     "output_type": "display_data"
    }
   ],
   "source": [
    "violation_code_df <- rest_data %>%\n",
    "    group_by(Violation.Code) %>%\n",
    "    summarise(\n",
    "        counts = n()\n",
    "    ) %>%\n",
    " arrange(desc(counts))\n",
    "\n",
    "head(violation_code_df)"
   ]
  },
  {
   "cell_type": "code",
   "execution_count": 12,
   "id": "de0c91e9-53a0-4f6f-b7c1-69b634ac868e",
   "metadata": {},
   "outputs": [
    {
     "data": {
      "text/html": [
       "<table class=\"dataframe\">\n",
       "<caption>A tibble: 6 × 2</caption>\n",
       "<thead>\n",
       "\t<tr><th scope=col>Cuisin</th><th scope=col>counts</th></tr>\n",
       "\t<tr><th scope=col>&lt;chr&gt;</th><th scope=col>&lt;int&gt;</th></tr>\n",
       "</thead>\n",
       "<tbody>\n",
       "\t<tr><td>American      </td><td>2535</td></tr>\n",
       "\t<tr><td>#N/A          </td><td>2396</td></tr>\n",
       "\t<tr><td>Italian       </td><td> 823</td></tr>\n",
       "\t<tr><td>Coffee/Tea    </td><td> 631</td></tr>\n",
       "\t<tr><td>Mexican       </td><td> 560</td></tr>\n",
       "\t<tr><td>Latin American</td><td> 552</td></tr>\n",
       "</tbody>\n",
       "</table>\n"
      ],
      "text/latex": [
       "A tibble: 6 × 2\n",
       "\\begin{tabular}{ll}\n",
       " Cuisin & counts\\\\\n",
       " <chr> & <int>\\\\\n",
       "\\hline\n",
       "\t American       & 2535\\\\\n",
       "\t \\#N/A           & 2396\\\\\n",
       "\t Italian        &  823\\\\\n",
       "\t Coffee/Tea     &  631\\\\\n",
       "\t Mexican        &  560\\\\\n",
       "\t Latin American &  552\\\\\n",
       "\\end{tabular}\n"
      ],
      "text/markdown": [
       "\n",
       "A tibble: 6 × 2\n",
       "\n",
       "| Cuisin &lt;chr&gt; | counts &lt;int&gt; |\n",
       "|---|---|\n",
       "| American       | 2535 |\n",
       "| #N/A           | 2396 |\n",
       "| Italian        |  823 |\n",
       "| Coffee/Tea     |  631 |\n",
       "| Mexican        |  560 |\n",
       "| Latin American |  552 |\n",
       "\n"
      ],
      "text/plain": [
       "  Cuisin         counts\n",
       "1 American       2535  \n",
       "2 #N/A           2396  \n",
       "3 Italian         823  \n",
       "4 Coffee/Tea      631  \n",
       "5 Mexican         560  \n",
       "6 Latin American  552  "
      ]
     },
     "metadata": {},
     "output_type": "display_data"
    }
   ],
   "source": [
    "cuisin_df <- rest_data %>%\n",
    "    group_by(Cuisin) %>%\n",
    "    summarise(\n",
    "        counts = n()\n",
    "    ) %>%\n",
    " arrange(desc(counts))\n",
    "\n",
    "head(cuisin_df)"
   ]
  },
  {
   "cell_type": "code",
   "execution_count": 13,
   "id": "ac8a7e29-e561-4e23-b18b-7561303cb0a9",
   "metadata": {},
   "outputs": [],
   "source": [
    "Manhattan_df <- rest_data %>% \n",
    "    filter(BOROUGH == \"Manhattan\") "
   ]
  },
  {
   "cell_type": "code",
   "execution_count": 14,
   "id": "16b2e3a6-6288-4398-b983-3020894f297f",
   "metadata": {},
   "outputs": [
    {
     "data": {
      "text/html": [
       "<table class=\"dataframe\">\n",
       "<caption>A tibble: 3 × 2</caption>\n",
       "<thead>\n",
       "\t<tr><th scope=col>Grade</th><th scope=col>counts</th></tr>\n",
       "\t<tr><th scope=col>&lt;chr&gt;</th><th scope=col>&lt;int&gt;</th></tr>\n",
       "</thead>\n",
       "<tbody>\n",
       "\t<tr><td>A</td><td>4597</td></tr>\n",
       "\t<tr><td>B</td><td> 486</td></tr>\n",
       "\t<tr><td>C</td><td> 140</td></tr>\n",
       "</tbody>\n",
       "</table>\n"
      ],
      "text/latex": [
       "A tibble: 3 × 2\n",
       "\\begin{tabular}{ll}\n",
       " Grade & counts\\\\\n",
       " <chr> & <int>\\\\\n",
       "\\hline\n",
       "\t A & 4597\\\\\n",
       "\t B &  486\\\\\n",
       "\t C &  140\\\\\n",
       "\\end{tabular}\n"
      ],
      "text/markdown": [
       "\n",
       "A tibble: 3 × 2\n",
       "\n",
       "| Grade &lt;chr&gt; | counts &lt;int&gt; |\n",
       "|---|---|\n",
       "| A | 4597 |\n",
       "| B |  486 |\n",
       "| C |  140 |\n",
       "\n"
      ],
      "text/plain": [
       "  Grade counts\n",
       "1 A     4597  \n",
       "2 B      486  \n",
       "3 C      140  "
      ]
     },
     "metadata": {},
     "output_type": "display_data"
    }
   ],
   "source": [
    "Manhattan_grade_df <- Manhattan_df %>%\n",
    "    group_by(Grade) %>%\n",
    "    summarise(\n",
    "        counts = n()\n",
    "    ) %>%\n",
    " arrange(desc(counts))\n",
    "\n",
    "head(Manhattan_grade_df)"
   ]
  },
  {
   "cell_type": "code",
   "execution_count": 15,
   "id": "5b28c1a7-6f26-4a76-ba96-83e584b88900",
   "metadata": {},
   "outputs": [],
   "source": [
    "Brooklyn_df <- rest_data %>% \n",
    "    filter(BOROUGH == \"Brooklyn\")"
   ]
  },
  {
   "cell_type": "code",
   "execution_count": 16,
   "id": "4a93313f-6d3c-4948-bd8f-de30fa5fb9bc",
   "metadata": {},
   "outputs": [
    {
     "data": {
      "text/html": [
       "<table class=\"dataframe\">\n",
       "<caption>A tibble: 3 × 2</caption>\n",
       "<thead>\n",
       "\t<tr><th scope=col>Grade</th><th scope=col>counts</th></tr>\n",
       "\t<tr><th scope=col>&lt;chr&gt;</th><th scope=col>&lt;int&gt;</th></tr>\n",
       "</thead>\n",
       "<tbody>\n",
       "\t<tr><td>A</td><td>2183</td></tr>\n",
       "\t<tr><td>B</td><td> 246</td></tr>\n",
       "\t<tr><td>C</td><td>  75</td></tr>\n",
       "</tbody>\n",
       "</table>\n"
      ],
      "text/latex": [
       "A tibble: 3 × 2\n",
       "\\begin{tabular}{ll}\n",
       " Grade & counts\\\\\n",
       " <chr> & <int>\\\\\n",
       "\\hline\n",
       "\t A & 2183\\\\\n",
       "\t B &  246\\\\\n",
       "\t C &   75\\\\\n",
       "\\end{tabular}\n"
      ],
      "text/markdown": [
       "\n",
       "A tibble: 3 × 2\n",
       "\n",
       "| Grade &lt;chr&gt; | counts &lt;int&gt; |\n",
       "|---|---|\n",
       "| A | 2183 |\n",
       "| B |  246 |\n",
       "| C |   75 |\n",
       "\n"
      ],
      "text/plain": [
       "  Grade counts\n",
       "1 A     2183  \n",
       "2 B      246  \n",
       "3 C       75  "
      ]
     },
     "metadata": {},
     "output_type": "display_data"
    }
   ],
   "source": [
    "Brooklyn_grade_df <- Brooklyn_df %>%\n",
    "    group_by(Grade) %>%\n",
    "    summarise(\n",
    "        counts = n()\n",
    "    ) %>%\n",
    " arrange(desc(counts))\n",
    "\n",
    "head(Brooklyn_grade_df)"
   ]
  },
  {
   "cell_type": "code",
   "execution_count": 17,
   "id": "cdc0684f-6827-42cd-991f-09a9b5728405",
   "metadata": {},
   "outputs": [],
   "source": [
    "Queens_df <- rest_data %>% \n",
    "    filter(BOROUGH == \"Queens\")"
   ]
  },
  {
   "cell_type": "code",
   "execution_count": 18,
   "id": "abed622f-b286-42ca-a1ab-5106e9392179",
   "metadata": {},
   "outputs": [
    {
     "data": {
      "text/html": [
       "<table class=\"dataframe\">\n",
       "<caption>A tibble: 3 × 2</caption>\n",
       "<thead>\n",
       "\t<tr><th scope=col>Grade</th><th scope=col>counts</th></tr>\n",
       "\t<tr><th scope=col>&lt;chr&gt;</th><th scope=col>&lt;int&gt;</th></tr>\n",
       "</thead>\n",
       "<tbody>\n",
       "\t<tr><td>A</td><td>1796</td></tr>\n",
       "\t<tr><td>B</td><td> 215</td></tr>\n",
       "\t<tr><td>C</td><td>  93</td></tr>\n",
       "</tbody>\n",
       "</table>\n"
      ],
      "text/latex": [
       "A tibble: 3 × 2\n",
       "\\begin{tabular}{ll}\n",
       " Grade & counts\\\\\n",
       " <chr> & <int>\\\\\n",
       "\\hline\n",
       "\t A & 1796\\\\\n",
       "\t B &  215\\\\\n",
       "\t C &   93\\\\\n",
       "\\end{tabular}\n"
      ],
      "text/markdown": [
       "\n",
       "A tibble: 3 × 2\n",
       "\n",
       "| Grade &lt;chr&gt; | counts &lt;int&gt; |\n",
       "|---|---|\n",
       "| A | 1796 |\n",
       "| B |  215 |\n",
       "| C |   93 |\n",
       "\n"
      ],
      "text/plain": [
       "  Grade counts\n",
       "1 A     1796  \n",
       "2 B      215  \n",
       "3 C       93  "
      ]
     },
     "metadata": {},
     "output_type": "display_data"
    }
   ],
   "source": [
    "Queens_grade_df <- Queens_df %>%\n",
    "    group_by(Grade) %>%\n",
    "    summarise(\n",
    "        counts = n()\n",
    "    ) %>%\n",
    " arrange(desc(counts))\n",
    "\n",
    "head(Queens_grade_df)"
   ]
  },
  {
   "cell_type": "code",
   "execution_count": 19,
   "id": "61b2c4b0-67b5-425c-a22e-e93d8934f842",
   "metadata": {},
   "outputs": [],
   "source": [
    "Bronx_df <- rest_data %>% \n",
    "    filter(BOROUGH == \"Bronx\")"
   ]
  },
  {
   "cell_type": "code",
   "execution_count": 20,
   "id": "36ac852a-9f26-4de3-b77d-1b1669c2d138",
   "metadata": {},
   "outputs": [
    {
     "data": {
      "text/html": [
       "<table class=\"dataframe\">\n",
       "<caption>A tibble: 3 × 2</caption>\n",
       "<thead>\n",
       "\t<tr><th scope=col>Grade</th><th scope=col>counts</th></tr>\n",
       "\t<tr><th scope=col>&lt;chr&gt;</th><th scope=col>&lt;int&gt;</th></tr>\n",
       "</thead>\n",
       "<tbody>\n",
       "\t<tr><td>A</td><td>471</td></tr>\n",
       "\t<tr><td>B</td><td> 86</td></tr>\n",
       "\t<tr><td>C</td><td> 31</td></tr>\n",
       "</tbody>\n",
       "</table>\n"
      ],
      "text/latex": [
       "A tibble: 3 × 2\n",
       "\\begin{tabular}{ll}\n",
       " Grade & counts\\\\\n",
       " <chr> & <int>\\\\\n",
       "\\hline\n",
       "\t A & 471\\\\\n",
       "\t B &  86\\\\\n",
       "\t C &  31\\\\\n",
       "\\end{tabular}\n"
      ],
      "text/markdown": [
       "\n",
       "A tibble: 3 × 2\n",
       "\n",
       "| Grade &lt;chr&gt; | counts &lt;int&gt; |\n",
       "|---|---|\n",
       "| A | 471 |\n",
       "| B |  86 |\n",
       "| C |  31 |\n",
       "\n"
      ],
      "text/plain": [
       "  Grade counts\n",
       "1 A     471   \n",
       "2 B      86   \n",
       "3 C      31   "
      ]
     },
     "metadata": {},
     "output_type": "display_data"
    }
   ],
   "source": [
    "Bronx_grade_df <- Bronx_df %>%\n",
    "    group_by(Grade) %>%\n",
    "    summarise(\n",
    "        counts = n()\n",
    "    ) %>%\n",
    " arrange(desc(counts))\n",
    "\n",
    "head(Bronx_grade_df)"
   ]
  },
  {
   "cell_type": "code",
   "execution_count": 21,
   "id": "82851808-4f00-433b-a64b-8500bb19ec85",
   "metadata": {},
   "outputs": [],
   "source": [
    "Staten_Island_df <- rest_data %>% \n",
    "    filter(BOROUGH == \"Staten Island\")"
   ]
  },
  {
   "cell_type": "code",
   "execution_count": 22,
   "id": "391d6222-5ef2-436e-a6be-49a718d5b3fa",
   "metadata": {},
   "outputs": [
    {
     "data": {
      "text/html": [
       "<table class=\"dataframe\">\n",
       "<caption>A tibble: 3 × 2</caption>\n",
       "<thead>\n",
       "\t<tr><th scope=col>Grade</th><th scope=col>counts</th></tr>\n",
       "\t<tr><th scope=col>&lt;chr&gt;</th><th scope=col>&lt;int&gt;</th></tr>\n",
       "</thead>\n",
       "<tbody>\n",
       "\t<tr><td>A</td><td>137</td></tr>\n",
       "\t<tr><td>B</td><td> 12</td></tr>\n",
       "\t<tr><td>C</td><td>  4</td></tr>\n",
       "</tbody>\n",
       "</table>\n"
      ],
      "text/latex": [
       "A tibble: 3 × 2\n",
       "\\begin{tabular}{ll}\n",
       " Grade & counts\\\\\n",
       " <chr> & <int>\\\\\n",
       "\\hline\n",
       "\t A & 137\\\\\n",
       "\t B &  12\\\\\n",
       "\t C &   4\\\\\n",
       "\\end{tabular}\n"
      ],
      "text/markdown": [
       "\n",
       "A tibble: 3 × 2\n",
       "\n",
       "| Grade &lt;chr&gt; | counts &lt;int&gt; |\n",
       "|---|---|\n",
       "| A | 137 |\n",
       "| B |  12 |\n",
       "| C |   4 |\n",
       "\n"
      ],
      "text/plain": [
       "  Grade counts\n",
       "1 A     137   \n",
       "2 B      12   \n",
       "3 C       4   "
      ]
     },
     "metadata": {},
     "output_type": "display_data"
    }
   ],
   "source": [
    "Staten_Island_grade_df <- Staten_Island_df %>%\n",
    "    group_by(Grade) %>%\n",
    "    summarise(\n",
    "        counts = n()\n",
    "    ) %>%\n",
    " arrange(desc(counts))\n",
    "\n",
    "head(Staten_Island_grade_df)"
   ]
  },
  {
   "cell_type": "code",
   "execution_count": null,
   "id": "0379bc63-298c-49d4-9a98-043bf072322b",
   "metadata": {},
   "outputs": [],
   "source": []
  }
 ],
 "metadata": {
  "kernelspec": {
   "display_name": "R",
   "language": "R",
   "name": "ir"
  },
  "language_info": {
   "codemirror_mode": "r",
   "file_extension": ".r",
   "mimetype": "text/x-r-source",
   "name": "R",
   "pygments_lexer": "r",
   "version": "4.0.5"
  }
 },
 "nbformat": 4,
 "nbformat_minor": 5
}
